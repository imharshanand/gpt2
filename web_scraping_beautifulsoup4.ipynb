{
 "cells": [
  {
   "cell_type": "code",
   "execution_count": 12,
   "id": "226e7d95-4012-466a-892e-a834a48bd77f",
   "metadata": {},
   "outputs": [],
   "source": [
    "import requests\n",
    "from bs4 import BeautifulSoup"
   ]
  },
  {
   "cell_type": "code",
   "execution_count": 13,
   "id": "00492962-3fa1-44b0-8866-a6395c7daae0",
   "metadata": {},
   "outputs": [],
   "source": [
    "# URL to scrape\n",
    "url = 'https://www.lipsum.com/'\n",
    "\n",
    "# Send a request to the website\n",
    "response = requests.get(url)"
   ]
  },
  {
   "cell_type": "code",
   "execution_count": 14,
   "id": "1a56a5bd-ee95-4307-a330-93438b35df3f",
   "metadata": {},
   "outputs": [],
   "source": [
    "# Parse the content of the request with BeautifulSoup\n",
    "soup = BeautifulSoup(response.content, 'html.parser')"
   ]
  },
  {
   "cell_type": "code",
   "execution_count": 15,
   "id": "566489ae-2444-4a82-995f-5c5727460f8a",
   "metadata": {},
   "outputs": [],
   "source": [
    "# Find all paragraph elements\n",
    "paragraphs = soup.find_all('p')"
   ]
  },
  {
   "cell_type": "code",
   "execution_count": 16,
   "id": "ba80d735-dd26-464b-8622-15f38d89fc37",
   "metadata": {},
   "outputs": [
    {
     "name": "stdout",
     "output_type": "stream",
     "text": [
      "Data has been saved to data.txt\n"
     ]
    }
   ],
   "source": [
    "# Open a text file to save the data\n",
    "with open('data.txt', 'w', encoding='utf-8') as file:\n",
    "    for para in paragraphs:\n",
    "        # Write the text of each paragraph to the file\n",
    "        file.write(para.get_text() + '\\n')\n",
    "print(\"Data has been saved to data.txt\")"
   ]
  },
  {
   "cell_type": "code",
   "execution_count": null,
   "id": "d8d59544-ff50-4b79-aecb-f82283fea0c8",
   "metadata": {},
   "outputs": [],
   "source": []
  }
 ],
 "metadata": {
  "kernelspec": {
   "display_name": "Python 3 (ipykernel)",
   "language": "python",
   "name": "python3"
  },
  "language_info": {
   "codemirror_mode": {
    "name": "ipython",
    "version": 3
   },
   "file_extension": ".py",
   "mimetype": "text/x-python",
   "name": "python",
   "nbconvert_exporter": "python",
   "pygments_lexer": "ipython3",
   "version": "3.8.19"
  }
 },
 "nbformat": 4,
 "nbformat_minor": 5
}
